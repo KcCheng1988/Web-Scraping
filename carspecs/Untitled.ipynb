{
 "cells": [
  {
   "cell_type": "code",
   "execution_count": 5,
   "id": "5f047690",
   "metadata": {},
   "outputs": [],
   "source": [
    "text = ' 255 cm or 134 inch '"
   ]
  },
  {
   "cell_type": "code",
   "execution_count": 7,
   "id": "4aaae483",
   "metadata": {},
   "outputs": [
    {
     "data": {
      "text/plain": [
       "['', '255', 'cm', 'or', '134', 'inch', '']"
      ]
     },
     "execution_count": 7,
     "metadata": {},
     "output_type": "execute_result"
    }
   ],
   "source": [
    "text.split(' ')"
   ]
  },
  {
   "cell_type": "code",
   "execution_count": null,
   "id": "bfe994c6",
   "metadata": {},
   "outputs": [],
   "source": []
  }
 ],
 "metadata": {
  "kernelspec": {
   "display_name": "Python 3",
   "language": "python",
   "name": "python3"
  },
  "language_info": {
   "codemirror_mode": {
    "name": "ipython",
    "version": 3
   },
   "file_extension": ".py",
   "mimetype": "text/x-python",
   "name": "python",
   "nbconvert_exporter": "python",
   "pygments_lexer": "ipython3",
   "version": "3.7.0"
  }
 },
 "nbformat": 4,
 "nbformat_minor": 5
}
